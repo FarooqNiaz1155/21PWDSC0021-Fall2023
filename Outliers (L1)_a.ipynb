{
 "cells": [
  {
   "cell_type": "code",
   "execution_count": 61,
   "id": "c4b3115d",
   "metadata": {},
   "outputs": [],
   "source": [
    "import numpy as np       # used for mathematical calculation e.g. percentile, differences etc.\n",
    "import matplotlib.pyplot as plt      # used for for creating various types of plots and visualizations"
   ]
  },
  {
   "cell_type": "code",
   "execution_count": 62,
   "id": "95bfeb8b",
   "metadata": {},
   "outputs": [],
   "source": [
    "dataset = [11,10,12,14,12,15,14,13,15,102,12,14,17,19,107,19,107,10,13,12,14,12,108,14,12,11,14,13,15,10,15,12,10,13,15,10]"
   ]
  },
  {
   "cell_type": "code",
   "execution_count": 63,
   "id": "7e96ec09",
   "metadata": {},
   "outputs": [
    {
     "data": {
      "text/plain": [
       "(array([32.,  0.,  0.,  0.,  0.,  0.,  0.,  0.,  0.,  4.]),\n",
       " array([ 10. ,  19.8,  29.6,  39.4,  49.2,  59. ,  68.8,  78.6,  88.4,\n",
       "         98.2, 108. ]),\n",
       " <BarContainer object of 10 artists>)"
      ]
     },
     "execution_count": 63,
     "metadata": {},
     "output_type": "execute_result"
    },
    {
     "data": {
      "image/png": "[encoded data removed]",
      "text/plain": [
       "<Figure size 640x480 with 1 Axes>"
      ]
     },
     "metadata": {},
     "output_type": "display_data"
    }
   ],
   "source": [
    "plt.hist(dataset)"
   ]
  },
  {
   "cell_type": "code",
   "execution_count": 64,
   "id": "444fe7e7",
   "metadata": {},
   "outputs": [],
   "source": [
    "# sort the dataset\n",
    "\n",
    "dataset = sorted(dataset)"
   ]
  },
  {
   "cell_type": "code",
   "execution_count": 65,
   "id": "1205ed4b",
   "metadata": {},
   "outputs": [
    {
     "data": {
      "text/plain": [
       "[10,\n",
       " 10,\n",
       " 10,\n",
       " 10,\n",
       " 10,\n",
       " 11,\n",
       " 11,\n",
       " 12,\n",
       " 12,\n",
       " 12,\n",
       " 12,\n",
       " 12,\n",
       " 12,\n",
       " 12,\n",
       " 13,\n",
       " 13,\n",
       " 13,\n",
       " 13,\n",
       " 14,\n",
       " 14,\n",
       " 14,\n",
       " 14,\n",
       " 14,\n",
       " 14,\n",
       " 15,\n",
       " 15,\n",
       " 15,\n",
       " 15,\n",
       " 15,\n",
       " 17,\n",
       " 19,\n",
       " 19,\n",
       " 102,\n",
       " 107,\n",
       " 107,\n",
       " 108]"
      ]
     },
     "execution_count": 65,
     "metadata": {},
     "output_type": "execute_result"
    }
   ],
   "source": [
    "dataset"
   ]
  },
  {
   "cell_type": "code",
   "execution_count": 66,
   "id": "c1c13588",
   "metadata": {},
   "outputs": [],
   "source": [
    "# Calculate the first and third quartiles\n",
    "\n",
    "q1,q3 = np.percentile(dataset,[25,75])"
   ]
  },
  {
   "cell_type": "code",
   "execution_count": 67,
   "id": "f7e8f9f5",
   "metadata": {},
   "outputs": [
    {
     "name": "stdout",
     "output_type": "stream",
     "text": [
      "12.0 15.0\n"
     ]
    }
   ],
   "source": [
    "print (q1,q3)"
   ]
  },
  {
   "cell_type": "code",
   "execution_count": 68,
   "id": "dcb283d3",
   "metadata": {},
   "outputs": [],
   "source": [
    "# calculate the interquartile range (IQR)\n",
    "\n",
    "iqr = q3 - q1"
   ]
  },
  {
   "cell_type": "code",
   "execution_count": 69,
   "id": "597a1cba",
   "metadata": {},
   "outputs": [
    {
     "name": "stdout",
     "output_type": "stream",
     "text": [
      "3.0\n"
     ]
    }
   ],
   "source": [
    "print (iqr)"
   ]
  },
  {
   "cell_type": "code",
   "execution_count": 70,
   "id": "54fdc2e7",
   "metadata": {},
   "outputs": [
    {
     "name": "stdout",
     "output_type": "stream",
     "text": [
      "7.5 19.5\n"
     ]
    }
   ],
   "source": [
    "# find the lower and upper bounds for outliers \n",
    "\n",
    "lower_fence = q1 - (1.5 * iqr)\n",
    "upper_fence = q3 + (1.5 * iqr)\n",
    "print (lower_fence,upper_fence)"
   ]
  },
  {
   "cell_type": "code",
   "execution_count": 71,
   "id": "44099c4a",
   "metadata": {},
   "outputs": [
    {
     "name": "stdout",
     "output_type": "stream",
     "text": [
      "[102, 107, 107, 108]\n"
     ]
    }
   ],
   "source": [
    "# find the outliers\n",
    "\n",
    "outliers = [x for x in dataset if x < lower_fence or x > upper_fence]\n",
    "print (outliers)\n"
   ]
  },
  {
   "cell_type": "code",
   "execution_count": 72,
   "id": "7b7509b2",
   "metadata": {},
   "outputs": [
    {
     "name": "stdout",
     "output_type": "stream",
     "text": [
      "[10, 10, 10, 10, 10, 11, 11, 12, 12, 12, 12, 12, 12, 12, 13, 13, 13, 13, 14, 14, 14, 14, 14, 14, 15, 15, 15, 15, 15, 17, 19, 19]\n"
     ]
    }
   ],
   "source": [
    "# find the data without outliers\n",
    "\n",
    "dataset_no_outliers = [x for x in dataset if x >= lower_fence and x <= upper_fence]\n",
    "print(dataset_no_outliers)"
   ]
  },
  {
   "cell_type": "code",
   "execution_count": 73,
   "id": "6ff77155",
   "metadata": {},
   "outputs": [],
   "source": [
    "# access to Seaborn's high-level data visualization functions and aesthetics, which allow you to create attractive and informative statistical graphics\n",
    "\n",
    "import seaborn as sns     "
   ]
  },
  {
   "cell_type": "code",
   "execution_count": 74,
   "id": "4903f3a5",
   "metadata": {},
   "outputs": [
    {
     "data": {
      "text/plain": [
       "Text(0.5, 1.0, 'Boxplot with Outliers')"
      ]
     },
     "execution_count": 74,
     "metadata": {},
     "output_type": "execute_result"
    },
    {
     "data": {
      "image/png": "[encoded data removed]",
      "text/plain": [
       "<Figure size 640x480 with 1 Axes>"
      ]
     },
     "metadata": {},
     "output_type": "display_data"
    }
   ],
   "source": [
    "sns.boxplot(dataset, orient=\"h\")\n",
    "plt.xlabel('Value')\n",
    "plt.title('Boxplot with Outliers')"
   ]
  },
  {
   "cell_type": "code",
   "execution_count": null,
   "id": "cbaba2d2",
   "metadata": {},
   "outputs": [],
   "source": []
  },
  {
   "cell_type": "code",
   "execution_count": null,
   "id": "93581cc6",
   "metadata": {},
   "outputs": [],
   "source": []
  }
 ],
 "metadata": {
  "kernelspec": {
   "display_name": "Python 3 (ipykernel)",
   "language": "python",
   "name": "python3"
  },
  "language_info": {
   "codemirror_mode": {
    "name": "ipython",
    "version": 3
   },
   "file_extension": ".py",
   "mimetype": "text/x-python",
   "name": "python",
   "nbconvert_exporter": "python",
   "pygments_lexer": "ipython3",
   "version": "3.10.9"
  }
 },
 "nbformat": 4,
 "nbformat_minor": 5
}
